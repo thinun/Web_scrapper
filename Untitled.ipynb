{
 "cells": [
  {
   "cell_type": "code",
   "execution_count": 20,
   "id": "4e646d99-83e0-468e-b90a-a940114eb763",
   "metadata": {},
   "outputs": [],
   "source": [
    "from IPython.core.interactive shell import InteractiveShell\n",
    "InteractiveShell.ast_node_interactivity = \"all\""
   ]
  },
  {
   "cell_type": "code",
   "execution_count": null,
   "id": "65ee8c59-7191-448c-bd10-6273cc0e6bae",
   "metadata": {},
   "outputs": [],
   "source": [
    "import requests\n",
    "from bs4 import BeautifulSoup"
   ]
  },
  {
   "cell_type": "code",
   "execution_count": 22,
   "id": "f52677b7-5ee2-41a9-b377-a8edd6867db5",
   "metadata": {
    "scrolled": true
   },
   "outputs": [],
   "source": [
    "r = requests. get(\"https://pythonhow.com/\")\n",
    "c=r.content"
   ]
  },
  {
   "cell_type": "code",
   "execution_count": 25,
   "id": "833aaa3e-3749-4bd6-bc9d-60c6629cfd89",
   "metadata": {},
   "outputs": [],
   "source": [
    "soup = BeautifulSoup(c, \"html.parser\")"
   ]
  },
  {
   "cell_type": "code",
   "execution_count": null,
   "id": "c8ff530d-41a0-4a8b-ba30-1c64eb63d4fa",
   "metadata": {},
   "outputs": [],
   "source": []
  }
 ],
 "metadata": {
  "kernelspec": {
   "display_name": "Python 3 (ipykernel)",
   "language": "python",
   "name": "python3"
  },
  "language_info": {
   "codemirror_mode": {
    "name": "ipython",
    "version": 3
   },
   "file_extension": ".py",
   "mimetype": "text/x-python",
   "name": "python",
   "nbconvert_exporter": "python",
   "pygments_lexer": "ipython3",
   "version": "3.12.2"
  }
 },
 "nbformat": 4,
 "nbformat_minor": 5
}
